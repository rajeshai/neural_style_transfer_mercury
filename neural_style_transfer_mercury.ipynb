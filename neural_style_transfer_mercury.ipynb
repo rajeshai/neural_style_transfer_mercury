{
 "cells": [
  {
   "cell_type": "raw",
   "metadata": {
    "id": "F5AlnuCuZqAO"
   },
   "source": [
    "---\n",
    "title: Neural Style Transfer app\n",
    "description: This app takes two images as input and produces a stylized image\n",
    "show-code: False\n",
    "params:\n",
    "    image_path_1:\n",
    "        input: file\n",
    "        label: Please upload the content image\n",
    "    image_path_2:\n",
    "        input: file\n",
    "        label: Please upload the style image\n",
    "    output_dir:\n",
    "        output: dir\n",
    "---"
   ]
  },
  {
   "cell_type": "code",
   "execution_count": null,
   "metadata": {
    "id": "gdu2o0jXVem4"
   },
   "outputs": [],
   "source": [
    "import numpy as np\n",
    "from PIL import Image\n",
    "import tensorflow as tf\n",
    "import tensorflow_hub as hub\n",
    "import os"
   ]
  },
  {
   "cell_type": "markdown",
   "metadata": {},
   "source": [
    "## This is a style transfer app that creates a stylized image based on your input.\n",
    "##  Upload an image by clicking the 'Browse' button or by 'Drag & Drop' and click 'Run' to stylize your image."
   ]
  },
  {
   "cell_type": "code",
   "execution_count": null,
   "metadata": {
    "id": "IMCXDckkabsP"
   },
   "outputs": [],
   "source": [
    "image_path_1 = '/content/GettyImages-1076692176-f7505eb.jpg'\n",
    "image_path_2 = '/content/Storms-Images.jpg'\n",
    "output_dir = 'output_images'"
   ]
  },
  {
   "cell_type": "code",
   "execution_count": null,
   "metadata": {
    "id": "Qvkh05NaVsWu"
   },
   "outputs": [],
   "source": [
    "neural_style_transfer_model = hub.load(\"https://tfhub.dev/google/magenta/arbitrary-image-stylization-v1-256/2\")"
   ]
  },
  {
   "cell_type": "code",
   "execution_count": null,
   "metadata": {
    "id": "QylqyaecVz-8"
   },
   "outputs": [],
   "source": [
    "def neural_style_transfer(content_image, style_image):\n",
    "    \n",
    "    content_image = tf.convert_to_tensor(content_image, np.float32)[tf.newaxis, ...] / 255.\n",
    "    style_image = tf.convert_to_tensor(style_image, np.float32)[tf.newaxis, ...] / 255.\n",
    "    \n",
    "    output = neural_style_transfer_model(content_image, style_image)\n",
    "    stylized_image = output[0]\n",
    "\n",
    "    out = Image.fromarray(np.uint8(stylized_image[0] * 255))\n",
    "    \n",
    "    return out"
   ]
  },
  {
   "cell_type": "code",
   "execution_count": null,
   "metadata": {
    "id": "RxVk8_6qWx0c"
   },
   "outputs": [],
   "source": [
    "img1 = np.array(Image.open(image_path_1))"
   ]
  },
  {
   "cell_type": "code",
   "execution_count": null,
   "metadata": {
    "id": "DI7Vt56iXvU4"
   },
   "outputs": [],
   "source": [
    "img2 = np.array(Image.open(image_path_2))"
   ]
  },
  {
   "cell_type": "code",
   "execution_count": null,
   "metadata": {
    "id": "WQofc4c2aqfv"
   },
   "outputs": [],
   "source": [
    "img3 = neural_style_transfer(img1, img2)"
   ]
  },
  {
   "cell_type": "code",
   "execution_count": null,
   "metadata": {
    "colab": {
     "base_uri": "https://localhost:8080/",
     "height": 549
    },
    "id": "Igez3hzLb7Kl",
    "outputId": "6e50201c-67d0-4d30-e127-7b3faee4c942"
   },
   "outputs": [],
   "source": [
    "img3"
   ]
  },
  {
   "cell_type": "code",
   "execution_count": null,
   "metadata": {
    "id": "_jUaDPeFcKgt"
   },
   "outputs": [],
   "source": [
    "img3.save(f\"{output_dir}/toonify.jpg\")\n",
    "print('To download your image, click the output files option at the top and click download')"
   ]
  }
 ],
 "metadata": {
  "colab": {
   "name": "Untitled19.ipynb",
   "provenance": []
  },
  "kernelspec": {
   "display_name": "Python 3 (ipykernel)",
   "language": "python",
   "name": "python3"
  },
  "language_info": {
   "codemirror_mode": {
    "name": "ipython",
    "version": 3
   },
   "file_extension": ".py",
   "mimetype": "text/x-python",
   "name": "python",
   "nbconvert_exporter": "python",
   "pygments_lexer": "ipython3",
   "version": "3.8.13"
  }
 },
 "nbformat": 4,
 "nbformat_minor": 1
}
